{
 "cells": [
  {
   "cell_type": "markdown",
   "id": "4a81dbb5",
   "metadata": {},
   "source": [
    "# Creando arrays"
   ]
  },
  {
   "cell_type": "code",
   "execution_count": 1,
   "id": "3e8de8d0",
   "metadata": {},
   "outputs": [],
   "source": [
    "import numpy as np"
   ]
  },
  {
   "cell_type": "code",
   "execution_count": 3,
   "id": "d85b5c30",
   "metadata": {},
   "outputs": [
    {
     "data": {
      "text/plain": [
       "[0, 1, 2, 3, 4, 5, 6, 7, 8, 9]"
      ]
     },
     "execution_count": 3,
     "metadata": {},
     "output_type": "execute_result"
    }
   ],
   "source": [
    "list(range(0,10))"
   ]
  },
  {
   "cell_type": "markdown",
   "id": "cdd1b902",
   "metadata": {},
   "source": [
    "## Uso de arange\n",
    "Se puede hacer uso de np.arange para poder crear un array de forma automatica"
   ]
  },
  {
   "cell_type": "code",
   "execution_count": 4,
   "id": "9ba40fbc",
   "metadata": {},
   "outputs": [
    {
     "data": {
      "text/plain": [
       "array([0, 1, 2, 3, 4, 5, 6, 7, 8, 9])"
      ]
     },
     "execution_count": 4,
     "metadata": {},
     "output_type": "execute_result"
    }
   ],
   "source": [
    "np.arange(0,10)"
   ]
  },
  {
   "cell_type": "code",
   "execution_count": 5,
   "id": "59169024",
   "metadata": {},
   "outputs": [
    {
     "data": {
      "text/plain": [
       "array([ 0,  2,  4,  6,  8, 10, 12, 14, 16, 18])"
      ]
     },
     "execution_count": 5,
     "metadata": {},
     "output_type": "execute_result"
    }
   ],
   "source": [
    "np.arange(0,20,2)"
   ]
  },
  {
   "cell_type": "markdown",
   "id": "e9b75ef0",
   "metadata": {},
   "source": [
    "Llenando un array con zeros"
   ]
  },
  {
   "cell_type": "code",
   "execution_count": 8,
   "id": "1a0025bd",
   "metadata": {},
   "outputs": [
    {
     "data": {
      "text/plain": [
       "array([[0., 0., 0., 0., 0., 0., 0., 0., 0., 0.],\n",
       "       [0., 0., 0., 0., 0., 0., 0., 0., 0., 0.],\n",
       "       [0., 0., 0., 0., 0., 0., 0., 0., 0., 0.],\n",
       "       [0., 0., 0., 0., 0., 0., 0., 0., 0., 0.],\n",
       "       [0., 0., 0., 0., 0., 0., 0., 0., 0., 0.],\n",
       "       [0., 0., 0., 0., 0., 0., 0., 0., 0., 0.],\n",
       "       [0., 0., 0., 0., 0., 0., 0., 0., 0., 0.],\n",
       "       [0., 0., 0., 0., 0., 0., 0., 0., 0., 0.],\n",
       "       [0., 0., 0., 0., 0., 0., 0., 0., 0., 0.],\n",
       "       [0., 0., 0., 0., 0., 0., 0., 0., 0., 0.]])"
      ]
     },
     "execution_count": 8,
     "metadata": {},
     "output_type": "execute_result"
    }
   ],
   "source": [
    "np.zeros((10,10))"
   ]
  },
  {
   "cell_type": "markdown",
   "id": "ceb6dbbd",
   "metadata": {},
   "source": [
    "Llenado de un array con unos"
   ]
  },
  {
   "cell_type": "code",
   "execution_count": 9,
   "id": "40d7ee60",
   "metadata": {},
   "outputs": [
    {
     "data": {
      "text/plain": [
       "array([[1., 1., 1., 1., 1., 1., 1., 1., 1., 1.],\n",
       "       [1., 1., 1., 1., 1., 1., 1., 1., 1., 1.],\n",
       "       [1., 1., 1., 1., 1., 1., 1., 1., 1., 1.],\n",
       "       [1., 1., 1., 1., 1., 1., 1., 1., 1., 1.],\n",
       "       [1., 1., 1., 1., 1., 1., 1., 1., 1., 1.],\n",
       "       [1., 1., 1., 1., 1., 1., 1., 1., 1., 1.],\n",
       "       [1., 1., 1., 1., 1., 1., 1., 1., 1., 1.],\n",
       "       [1., 1., 1., 1., 1., 1., 1., 1., 1., 1.],\n",
       "       [1., 1., 1., 1., 1., 1., 1., 1., 1., 1.],\n",
       "       [1., 1., 1., 1., 1., 1., 1., 1., 1., 1.]])"
      ]
     },
     "execution_count": 9,
     "metadata": {},
     "output_type": "execute_result"
    }
   ],
   "source": [
    "np.ones((10,10))"
   ]
  },
  {
   "cell_type": "markdown",
   "id": "0e00b0b4",
   "metadata": {},
   "source": [
    "Creacion de una distribucion normalizada con espacios iguales en un rango"
   ]
  },
  {
   "cell_type": "code",
   "execution_count": 10,
   "id": "804c98fe",
   "metadata": {},
   "outputs": [
    {
     "data": {
      "text/plain": [
       "array([0.        , 0.55555556, 1.11111111, 1.66666667, 2.22222222,\n",
       "       2.77777778, 3.33333333, 3.88888889, 4.44444444, 5.        ])"
      ]
     },
     "execution_count": 10,
     "metadata": {},
     "output_type": "execute_result"
    }
   ],
   "source": [
    "np.linspace(0,5,10)"
   ]
  },
  {
   "cell_type": "markdown",
   "id": "41412084",
   "metadata": {},
   "source": [
    "Creacion de una matriz identidad de n dimesiones"
   ]
  },
  {
   "cell_type": "code",
   "execution_count": 11,
   "id": "ac8f6503",
   "metadata": {},
   "outputs": [
    {
     "data": {
      "text/plain": [
       "array([[1., 0., 0., 0., 0., 0.],\n",
       "       [0., 1., 0., 0., 0., 0.],\n",
       "       [0., 0., 1., 0., 0., 0.],\n",
       "       [0., 0., 0., 1., 0., 0.],\n",
       "       [0., 0., 0., 0., 1., 0.],\n",
       "       [0., 0., 0., 0., 0., 1.]])"
      ]
     },
     "execution_count": 11,
     "metadata": {},
     "output_type": "execute_result"
    }
   ],
   "source": [
    "np.eye(6)"
   ]
  },
  {
   "cell_type": "markdown",
   "id": "898c6172",
   "metadata": {},
   "source": [
    "Creacion de una matriz con datos totalmente randon"
   ]
  },
  {
   "cell_type": "code",
   "execution_count": 14,
   "id": "2016d64c",
   "metadata": {},
   "outputs": [
    {
     "data": {
      "text/plain": [
       "array([[0.82038626, 0.52480131, 0.91356696, 0.58167738, 0.347975  ],\n",
       "       [0.29251784, 0.64919173, 0.80408372, 0.24981737, 0.03023128],\n",
       "       [0.70583676, 0.40678353, 0.74459117, 0.40370617, 0.37664689],\n",
       "       [0.43400731, 0.7325476 , 0.30470136, 0.07187413, 0.20866879]])"
      ]
     },
     "execution_count": 14,
     "metadata": {},
     "output_type": "execute_result"
    }
   ],
   "source": [
    "np.random.rand(4,5)"
   ]
  },
  {
   "cell_type": "code",
   "execution_count": 15,
   "id": "95f2193b",
   "metadata": {},
   "outputs": [
    {
     "data": {
      "text/plain": [
       "6"
      ]
     },
     "execution_count": 15,
     "metadata": {},
     "output_type": "execute_result"
    }
   ],
   "source": [
    "np.random.randint(1,15)"
   ]
  },
  {
   "cell_type": "code",
   "execution_count": 16,
   "id": "0161f7ed",
   "metadata": {},
   "outputs": [
    {
     "data": {
      "text/plain": [
       "array([[81, 22, 81, 40, 83, 85,  3, 79, 64, 11],\n",
       "       [ 9,  2, 26, 81, 22, 39, 39, 77, 55, 73],\n",
       "       [40, 77, 56, 64, 27, 14, 22, 62, 21, 24],\n",
       "       [66, 71,  4, 19, 41, 53, 37, 56, 96, 97],\n",
       "       [85, 43, 85,  9, 42, 24, 55, 87,  6, 94],\n",
       "       [ 8, 42, 32, 45, 40, 94, 40, 53, 79, 64],\n",
       "       [51, 48, 83, 57, 31, 46, 65, 14, 23, 87],\n",
       "       [ 5, 11,  1, 24,  4, 42, 67, 63, 78,  2],\n",
       "       [54, 60, 54, 57, 10, 99, 56, 43, 25, 50],\n",
       "       [33, 67, 14, 67, 80, 48, 94, 94, 47, 27]])"
      ]
     },
     "execution_count": 16,
     "metadata": {},
     "output_type": "execute_result"
    }
   ],
   "source": [
    "np.random.randint(1,100,(10,10))"
   ]
  },
  {
   "cell_type": "code",
   "execution_count": null,
   "id": "5ebfe5e0",
   "metadata": {},
   "outputs": [],
   "source": []
  }
 ],
 "metadata": {
  "kernelspec": {
   "display_name": "Python 3 (ipykernel)",
   "language": "python",
   "name": "python3"
  },
  "language_info": {
   "codemirror_mode": {
    "name": "ipython",
    "version": 3
   },
   "file_extension": ".py",
   "mimetype": "text/x-python",
   "name": "python",
   "nbconvert_exporter": "python",
   "pygments_lexer": "ipython3",
   "version": "3.9.12"
  }
 },
 "nbformat": 4,
 "nbformat_minor": 5
}
