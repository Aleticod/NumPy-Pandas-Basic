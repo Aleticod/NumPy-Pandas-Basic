{
 "cells": [
  {
   "cell_type": "markdown",
   "id": "f9983a10",
   "metadata": {},
   "source": [
    "# Shape y Reshape\n",
    "## Shape\n",
    "Esto hace alusion a la forma que tiene el arreglo"
   ]
  },
  {
   "cell_type": "code",
   "execution_count": 1,
   "id": "deecdf3d",
   "metadata": {},
   "outputs": [],
   "source": [
    "import numpy as np"
   ]
  },
  {
   "cell_type": "code",
   "execution_count": 3,
   "id": "78e9dd55",
   "metadata": {},
   "outputs": [],
   "source": [
    "arr = np.random.randint(1,10,(3,2))"
   ]
  },
  {
   "cell_type": "raw",
   "id": "13d53a91",
   "metadata": {},
   "source": []
  },
  {
   "cell_type": "code",
   "execution_count": 4,
   "id": "4bb666c5",
   "metadata": {},
   "outputs": [
    {
     "data": {
      "text/plain": [
       "(3, 2)"
      ]
     },
     "execution_count": 4,
     "metadata": {},
     "output_type": "execute_result"
    }
   ],
   "source": [
    "arr.shape"
   ]
  },
  {
   "cell_type": "code",
   "execution_count": 5,
   "id": "58015147",
   "metadata": {},
   "outputs": [
    {
     "data": {
      "text/plain": [
       "array([[2, 7, 2, 6, 2, 2]])"
      ]
     },
     "execution_count": 5,
     "metadata": {},
     "output_type": "execute_result"
    }
   ],
   "source": [
    "arr.reshape(1,6)"
   ]
  },
  {
   "cell_type": "code",
   "execution_count": 6,
   "id": "fd37d6ef",
   "metadata": {},
   "outputs": [
    {
     "data": {
      "text/plain": [
       "array([[2, 7, 2],\n",
       "       [6, 2, 2]])"
      ]
     },
     "execution_count": 6,
     "metadata": {},
     "output_type": "execute_result"
    }
   ],
   "source": [
    "arr.reshape(2,3)"
   ]
  },
  {
   "cell_type": "code",
   "execution_count": 7,
   "id": "0933bc99",
   "metadata": {},
   "outputs": [
    {
     "data": {
      "text/plain": [
       "array([[2, 7, 2, 6, 2, 2]])"
      ]
     },
     "execution_count": 7,
     "metadata": {},
     "output_type": "execute_result"
    }
   ],
   "source": [
    "np.reshape(arr, (1,6))"
   ]
  },
  {
   "cell_type": "markdown",
   "id": "f254d4b4",
   "metadata": {},
   "source": [
    "## Redimensionado\n",
    "Esto se puede hacer de 3 formas diferentes los cuales son: Como el lenguaje C 'C', como el lenguaje Fortran 'F' o de la forma como esta optimizado en nuestra PC 'A'"
   ]
  },
  {
   "cell_type": "code",
   "execution_count": 9,
   "id": "a4666341",
   "metadata": {},
   "outputs": [
    {
     "data": {
      "text/plain": [
       "array([[2, 7],\n",
       "       [2, 6],\n",
       "       [2, 2]])"
      ]
     },
     "execution_count": 9,
     "metadata": {},
     "output_type": "execute_result"
    }
   ],
   "source": [
    "arr"
   ]
  },
  {
   "cell_type": "markdown",
   "id": "4bc9fa69",
   "metadata": {},
   "source": [
    "### Como el lenguaje C"
   ]
  },
  {
   "cell_type": "code",
   "execution_count": 10,
   "id": "28f12543",
   "metadata": {},
   "outputs": [
    {
     "data": {
      "text/plain": [
       "array([[2, 7, 2],\n",
       "       [6, 2, 2]])"
      ]
     },
     "execution_count": 10,
     "metadata": {},
     "output_type": "execute_result"
    }
   ],
   "source": [
    "np.reshape(arr, (2,3), 'C')"
   ]
  },
  {
   "cell_type": "markdown",
   "id": "e2afc07e",
   "metadata": {},
   "source": [
    "### Como el lenguaje Fortran"
   ]
  },
  {
   "cell_type": "code",
   "execution_count": 11,
   "id": "9d13f112",
   "metadata": {},
   "outputs": [
    {
     "data": {
      "text/plain": [
       "array([[2, 2, 6],\n",
       "       [2, 7, 2]])"
      ]
     },
     "execution_count": 11,
     "metadata": {},
     "output_type": "execute_result"
    }
   ],
   "source": [
    "np.reshape(arr, (2,3), 'F')"
   ]
  },
  {
   "cell_type": "markdown",
   "id": "7decdef1",
   "metadata": {},
   "source": [
    "### Como esta optimizado en nuestra PC"
   ]
  },
  {
   "cell_type": "code",
   "execution_count": 12,
   "id": "4b574044",
   "metadata": {},
   "outputs": [
    {
     "data": {
      "text/plain": [
       "array([[2, 7, 2],\n",
       "       [6, 2, 2]])"
      ]
     },
     "execution_count": 12,
     "metadata": {},
     "output_type": "execute_result"
    }
   ],
   "source": [
    "np.reshape(arr, (2,3), 'A')"
   ]
  },
  {
   "cell_type": "code",
   "execution_count": null,
   "id": "9b51463b",
   "metadata": {},
   "outputs": [],
   "source": []
  }
 ],
 "metadata": {
  "kernelspec": {
   "display_name": "Python 3 (ipykernel)",
   "language": "python",
   "name": "python3"
  },
  "language_info": {
   "codemirror_mode": {
    "name": "ipython",
    "version": 3
   },
   "file_extension": ".py",
   "mimetype": "text/x-python",
   "name": "python",
   "nbconvert_exporter": "python",
   "pygments_lexer": "ipython3",
   "version": "3.9.12"
  }
 },
 "nbformat": 4,
 "nbformat_minor": 5
}
