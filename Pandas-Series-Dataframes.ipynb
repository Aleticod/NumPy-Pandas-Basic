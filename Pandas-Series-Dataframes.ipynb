{
 "cells": [
  {
   "cell_type": "markdown",
   "id": "3c27bbac",
   "metadata": {},
   "source": [
    "# Pandas: Series y Dataframes"
   ]
  },
  {
   "cell_type": "code",
   "execution_count": 2,
   "id": "41eb731a",
   "metadata": {},
   "outputs": [],
   "source": [
    "import pandas as pd"
   ]
  },
  {
   "cell_type": "code",
   "execution_count": 4,
   "id": "638896ff",
   "metadata": {},
   "outputs": [],
   "source": [
    "psg_players = pd.Series(['Navas', 'Mbappe', 'Neymar', 'Messi'], index=[1,7,10,30])"
   ]
  },
  {
   "cell_type": "code",
   "execution_count": 6,
   "id": "f35ba48c",
   "metadata": {},
   "outputs": [
    {
     "data": {
      "text/plain": [
       "{1: 'Navas', 7: 'Mbappe', 10: 'Neymar', 30: 'Messi'}"
      ]
     },
     "execution_count": 6,
     "metadata": {},
     "output_type": "execute_result"
    }
   ],
   "source": [
    "dictionary = {1:'Navas', 7: 'Mbappe', 10: 'Neymar', 30: 'Messi'}\n",
    "dictionary"
   ]
  },
  {
   "cell_type": "code",
   "execution_count": 7,
   "id": "ebb1a980",
   "metadata": {},
   "outputs": [],
   "source": [
    "psg = pd.Series(dictionary)"
   ]
  },
  {
   "cell_type": "code",
   "execution_count": 8,
   "id": "d12590f4",
   "metadata": {},
   "outputs": [
    {
     "data": {
      "text/plain": [
       "1      Navas\n",
       "7     Mbappe\n",
       "10    Neymar\n",
       "30     Messi\n",
       "dtype: object"
      ]
     },
     "execution_count": 8,
     "metadata": {},
     "output_type": "execute_result"
    }
   ],
   "source": [
    "psg"
   ]
  },
  {
   "cell_type": "code",
   "execution_count": 9,
   "id": "0d5afa4c",
   "metadata": {},
   "outputs": [
    {
     "data": {
      "text/plain": [
       "'Navas'"
      ]
     },
     "execution_count": 9,
     "metadata": {},
     "output_type": "execute_result"
    }
   ],
   "source": [
    "psg_players[1]"
   ]
  },
  {
   "cell_type": "code",
   "execution_count": 10,
   "id": "ac213c45",
   "metadata": {},
   "outputs": [
    {
     "data": {
      "text/plain": [
       "'Messi'"
      ]
     },
     "execution_count": 10,
     "metadata": {},
     "output_type": "execute_result"
    }
   ],
   "source": [
    "psg_players[30]"
   ]
  },
  {
   "cell_type": "code",
   "execution_count": 14,
   "id": "9323f290",
   "metadata": {},
   "outputs": [],
   "source": [
    "psg_series = pd.Series(['Navas', 'Mbappe', 'Neymar', 'Mesii'])"
   ]
  },
  {
   "cell_type": "code",
   "execution_count": 15,
   "id": "919ca6ac",
   "metadata": {},
   "outputs": [
    {
     "data": {
      "text/plain": [
       "0     Navas\n",
       "1    Mbappe\n",
       "2    Neymar\n",
       "3     Mesii\n",
       "dtype: object"
      ]
     },
     "execution_count": 15,
     "metadata": {},
     "output_type": "execute_result"
    }
   ],
   "source": [
    "psg_series"
   ]
  },
  {
   "cell_type": "code",
   "execution_count": 16,
   "id": "7ff1f8bf",
   "metadata": {},
   "outputs": [
    {
     "data": {
      "text/plain": [
       "0     Navas\n",
       "1    Mbappe\n",
       "dtype: object"
      ]
     },
     "execution_count": 16,
     "metadata": {},
     "output_type": "execute_result"
    }
   ],
   "source": [
    "psg_series[:2]"
   ]
  },
  {
   "cell_type": "code",
   "execution_count": 17,
   "id": "581e97cd",
   "metadata": {},
   "outputs": [],
   "source": [
    "frame = {'Jugador': ['Navas','Mbappe','Neymar','Messi'],\n",
    "        'Altura':[1.83, 1.70, 1.70, 1.65],\n",
    "        'Goles': [2,200,200,300]}"
   ]
  },
  {
   "cell_type": "code",
   "execution_count": 18,
   "id": "60f51b76",
   "metadata": {},
   "outputs": [
    {
     "data": {
      "text/plain": [
       "{'Jugador': ['Navas', 'Mbappe', 'Neymar', 'Messi'],\n",
       " 'Altura': [1.83, 1.7, 1.7, 1.65],\n",
       " 'Goles': [2, 200, 200, 300]}"
      ]
     },
     "execution_count": 18,
     "metadata": {},
     "output_type": "execute_result"
    }
   ],
   "source": [
    "frame"
   ]
  },
  {
   "cell_type": "code",
   "execution_count": 21,
   "id": "e90c8e94",
   "metadata": {},
   "outputs": [],
   "source": [
    "pd_frame = pd.DataFrame(frame, index=[1,7,10,30])"
   ]
  },
  {
   "cell_type": "code",
   "execution_count": 22,
   "id": "67f9ae3d",
   "metadata": {},
   "outputs": [
    {
     "data": {
      "text/html": [
       "<div>\n",
       "<style scoped>\n",
       "    .dataframe tbody tr th:only-of-type {\n",
       "        vertical-align: middle;\n",
       "    }\n",
       "\n",
       "    .dataframe tbody tr th {\n",
       "        vertical-align: top;\n",
       "    }\n",
       "\n",
       "    .dataframe thead th {\n",
       "        text-align: right;\n",
       "    }\n",
       "</style>\n",
       "<table border=\"1\" class=\"dataframe\">\n",
       "  <thead>\n",
       "    <tr style=\"text-align: right;\">\n",
       "      <th></th>\n",
       "      <th>Jugador</th>\n",
       "      <th>Altura</th>\n",
       "      <th>Goles</th>\n",
       "    </tr>\n",
       "  </thead>\n",
       "  <tbody>\n",
       "    <tr>\n",
       "      <th>1</th>\n",
       "      <td>Navas</td>\n",
       "      <td>1.83</td>\n",
       "      <td>2</td>\n",
       "    </tr>\n",
       "    <tr>\n",
       "      <th>7</th>\n",
       "      <td>Mbappe</td>\n",
       "      <td>1.70</td>\n",
       "      <td>200</td>\n",
       "    </tr>\n",
       "    <tr>\n",
       "      <th>10</th>\n",
       "      <td>Neymar</td>\n",
       "      <td>1.70</td>\n",
       "      <td>200</td>\n",
       "    </tr>\n",
       "    <tr>\n",
       "      <th>30</th>\n",
       "      <td>Messi</td>\n",
       "      <td>1.65</td>\n",
       "      <td>300</td>\n",
       "    </tr>\n",
       "  </tbody>\n",
       "</table>\n",
       "</div>"
      ],
      "text/plain": [
       "   Jugador  Altura  Goles\n",
       "1    Navas    1.83      2\n",
       "7   Mbappe    1.70    200\n",
       "10  Neymar    1.70    200\n",
       "30   Messi    1.65    300"
      ]
     },
     "execution_count": 22,
     "metadata": {},
     "output_type": "execute_result"
    }
   ],
   "source": [
    "pd_frame"
   ]
  },
  {
   "cell_type": "code",
   "execution_count": 23,
   "id": "6b62d103",
   "metadata": {},
   "outputs": [
    {
     "data": {
      "text/plain": [
       "Index(['Jugador', 'Altura', 'Goles'], dtype='object')"
      ]
     },
     "execution_count": 23,
     "metadata": {},
     "output_type": "execute_result"
    }
   ],
   "source": [
    "pd_frame.columns"
   ]
  },
  {
   "cell_type": "code",
   "execution_count": 24,
   "id": "97b1d504",
   "metadata": {},
   "outputs": [
    {
     "data": {
      "text/plain": [
       "Int64Index([1, 7, 10, 30], dtype='int64')"
      ]
     },
     "execution_count": 24,
     "metadata": {},
     "output_type": "execute_result"
    }
   ],
   "source": [
    "pd_frame.index"
   ]
  },
  {
   "cell_type": "code",
   "execution_count": null,
   "id": "897635d6",
   "metadata": {},
   "outputs": [],
   "source": []
  }
 ],
 "metadata": {
  "kernelspec": {
   "display_name": "Python 3 (ipykernel)",
   "language": "python",
   "name": "python3"
  },
  "language_info": {
   "codemirror_mode": {
    "name": "ipython",
    "version": 3
   },
   "file_extension": ".py",
   "mimetype": "text/x-python",
   "name": "python",
   "nbconvert_exporter": "python",
   "pygments_lexer": "ipython3",
   "version": "3.10.7"
  },
  "widgets": {
   "application/vnd.jupyter.widget-state+json": {
    "state": {},
    "version_major": 2,
    "version_minor": 0
   }
  }
 },
 "nbformat": 4,
 "nbformat_minor": 5
}
